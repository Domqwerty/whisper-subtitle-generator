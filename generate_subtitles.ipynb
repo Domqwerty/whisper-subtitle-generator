{
  "nbformat": 4,
  "nbformat_minor": 0,
  "metadata": {
    "colab": {
      "provenance": [],
      "gpuType": "T4",
      "authorship_tag": "ABX9TyOHtHiDNInL+BEgJ+L/dTsc",
      "include_colab_link": true
    },
    "kernelspec": {
      "name": "python3",
      "display_name": "Python 3"
    },
    "language_info": {
      "name": "python"
    },
    "accelerator": "GPU"
  },
  "cells": [
    {
      "cell_type": "markdown",
      "metadata": {
        "id": "view-in-github",
        "colab_type": "text"
      },
      "source": [
        "<a href=\"https://colab.research.google.com/github/Domqwerty/whisper-subtitle-generator/blob/main/generate_subtitles.ipynb\" target=\"_parent\"><img src=\"https://colab.research.google.com/assets/colab-badge.svg\" alt=\"Open In Colab\"/></a>"
      ]
    },
    {
      "cell_type": "code",
      "execution_count": null,
      "metadata": {
        "id": "sMVc-tT31Xjq"
      },
      "outputs": [],
      "source": [
        "# Installa Whisper e FFmpeg\n",
        "!pip install git+https://github.com/openai/whisper.git\n",
        "!sudo apt update && sudo apt install ffmpeg"
      ]
    },
    {
      "cell_type": "code",
      "source": [
        "from google.colab import drive\n",
        "drive.mount('/content/drive')"
      ],
      "metadata": {
        "id": "p2hNE2eb1Y78"
      },
      "execution_count": null,
      "outputs": []
    },
    {
      "cell_type": "code",
      "source": [
        "import whisper\n",
        "\n",
        "# Parametro per la formattazione dei sottotitoli\n",
        "MAX_WORDS_PER_LINE = 9  # Numero massimo di parole per riga\n",
        "\n",
        "# Carica il modello Whisper\n",
        "model = whisper.load_model(\"small\")  # Usa \"tiny\" se vuoi maggiore velocità\n",
        "\n",
        "# Trascrivi l'audio specificando la lingua\n",
        "# Sostituisci \"/content/input.mp3\" con il percorso del tuo file audio\n",
        "result = model.transcribe(\"/content/input.mp3\", language=\"en\", word_timestamps=True)\n",
        "\n",
        "# Funzione per dividere il testo in linee basate su max_words_per_line\n",
        "def split_text_into_lines_with_timestamps(words, max_words_per_line):\n",
        "    lines = []\n",
        "    current_line = []\n",
        "    current_start = None\n",
        "    current_end = None\n",
        "\n",
        "    for i in range(0, len(words), max_words_per_line):\n",
        "        # Prendi un blocco di parole\n",
        "        block = words[i:i + max_words_per_line]\n",
        "\n",
        "        # Calcola il timestamp iniziale e finale per il blocco\n",
        "        start_time = block[0][\"start\"]\n",
        "        end_time = block[-1][\"end\"]\n",
        "\n",
        "        # Unisci le parole del blocco in una riga di testo\n",
        "        line_text = \" \".join([word[\"word\"].strip() for word in block])\n",
        "\n",
        "        # Aggiungi la riga alla lista\n",
        "        lines.append({\n",
        "            \"text\": line_text,\n",
        "            \"start\": start_time,\n",
        "            \"end\": end_time\n",
        "        })\n",
        "\n",
        "    return lines\n",
        "\n",
        "# Funzione per formattare il tempo nel formato SRT\n",
        "def format_time(seconds):\n",
        "    hours = int(seconds // 3600)\n",
        "    minutes = int((seconds % 3600) // 60)\n",
        "    secs = int(seconds % 60)\n",
        "    millis = int((seconds - int(seconds)) * 1000)\n",
        "    return f\"{hours:02}:{minutes:02}:{secs:02},{millis:03}\"\n",
        "\n",
        "# Salva il risultato in un file SRT\n",
        "output_file = \"/content/output.srt\"\n",
        "with open(output_file, \"w\", encoding=\"utf-8\") as file:\n",
        "    index = 1\n",
        "    for segment in result[\"segments\"]:\n",
        "        # Ottieni le parole con i loro timestamp\n",
        "        words = segment[\"words\"]\n",
        "\n",
        "        # Dividi il testo in linee basate su max_words_per_line\n",
        "        lines = split_text_into_lines_with_timestamps(words, MAX_WORDS_PER_LINE)\n",
        "\n",
        "        # Scrivi ciascuna linea come un blocco SRT separato\n",
        "        for line in lines:\n",
        "            file.write(f\"{index}\\n\")\n",
        "            file.write(f\"{format_time(line['start'])} --> {format_time(line['end'])}\\n\")\n",
        "            file.write(f\"{line['text']}\\n\\n\")\n",
        "            index += 1\n",
        "\n",
        "print(f\"Trascrizione completata! Il file SRT è stato salvato come '{output_file}'.\")"
      ],
      "metadata": {
        "id": "vl4afwUZOlRr"
      },
      "execution_count": null,
      "outputs": []
    }
  ]
}